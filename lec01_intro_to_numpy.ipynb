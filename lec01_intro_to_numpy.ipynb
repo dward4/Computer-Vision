{
 "cells": [
  {
   "cell_type": "markdown",
   "metadata": {},
   "source": [
    "<center>\n",
    "<h2>Lecture 01<br>Introduction to NumPy</h2>\n",
    "<br>\n",
    "Computational Vision<br>\n",
    "August 31, 2017\n",
    "</center>\n"
   ]
  },
  {
   "cell_type": "markdown",
   "metadata": {},
   "source": [
    "### Overview of the Basics\n",
    "See the Piazza resources page for links to tutorials\n",
    "+ A first example\n",
    "+ Array creation\n",
    "+ Array dimensions\n",
    "+ Changing shape\n",
    "+ Indexing and slicing\n",
    "+ Views and copying\n",
    "+ Arithmetic operators\n",
    "+ Universal functions\n",
    "+ Concatenating and splitting\n",
    "+ Summary of differences between NumPy arrays and Python lists\n",
    "\n",
    "The code written during class will be posted both as an html file and as a Jupyter notebook."
   ]
  },
  {
   "cell_type": "markdown",
   "metadata": {},
   "source": [
    "### A first example\n",
    "We'll start with an example showing\n",
    "+ Initial creation\n",
    "+ Reshaping from one dimension to two\n",
    "+ Indexing to access and change values\n",
    "+ Single data type:  dtype\n",
    "+ The type of the array object"
   ]
  },
  {
   "cell_type": "code",
   "execution_count": 1,
   "metadata": {},
   "outputs": [
    {
     "name": "stdout",
     "output_type": "stream",
     "text": [
      "[[ 4  2]\n",
      " [ 6 19]\n",
      " [24 13]]\n",
      "[ 4  2  6 19 24 13]\n",
      "(6,)\n",
      "[  4   2   6 999  24  13]\n",
      "[[  4   2]\n",
      " [  6 999]\n",
      " [ 24  13]]\n",
      "int64\n",
      "<class 'numpy.ndarray'>\n"
     ]
    }
   ],
   "source": [
    "import numpy as np     # standard convention\n",
    "# We will fill in here during lecture\n",
    "\n",
    "a = np.array( [ 4, 2, 6, 19, 24, 13])\n",
    "# print(a)\n",
    "a.shape = (3,2)\n",
    "print(a)\n",
    "b = a.reshape(6)\n",
    "print(b)\n",
    "print(b.shape)\n",
    "b[3] = 999\n",
    "print(b)\n",
    "print(a)\n",
    "print(a.dtype)\n",
    "print(type(a))\n",
    "\n"
   ]
  },
  {
   "cell_type": "markdown",
   "metadata": {},
   "source": [
    "### Array creation\n",
    "Many methods to explore:\n",
    "+ Creating directly from a list or from lists of lists\n",
    "+ arange\n",
    "+ linspace\n",
    "+ random\n",
    "+ eye\n",
    "+ ones\n",
    "+ zeros\n",
    "+ setting the data type\n"
   ]
  },
  {
   "cell_type": "code",
   "execution_count": 2,
   "metadata": {},
   "outputs": [
    {
     "name": "stdout",
     "output_type": "stream",
     "text": [
      "[[0 1 2 3 4]\n",
      " [5 6 7 8 9]]\n",
      "[[-1.         -0.94871795 -0.8974359  -0.84615385 -0.79487179 -0.74358974\n",
      "  -0.69230769 -0.64102564 -0.58974359 -0.53846154]\n",
      " [-0.48717949 -0.43589744 -0.38461538 -0.33333333 -0.28205128 -0.23076923\n",
      "  -0.17948718 -0.12820513 -0.07692308 -0.02564103]\n",
      " [ 0.02564103  0.07692308  0.12820513  0.17948718  0.23076923  0.28205128\n",
      "   0.33333333  0.38461538  0.43589744  0.48717949]\n",
      " [ 0.53846154  0.58974359  0.64102564  0.69230769  0.74358974  0.79487179\n",
      "   0.84615385  0.8974359   0.94871795  1.        ]]\n",
      "float64\n",
      "[[ 0.61506442  0.04142655  0.47009712  0.46000103  0.47136998]\n",
      " [ 0.59532324  0.6116961   0.32911458  0.29530243  0.60263806]\n",
      " [ 0.14195212  0.54314107  0.46296105  0.63979221  0.16001589]]\n",
      "[[ 1.  0.  0.  0.]\n",
      " [ 0.  1.  0.  0.]\n",
      " [ 0.  0.  1.  0.]\n",
      " [ 0.  0.  0.  1.]]\n",
      "[[0 0 0]\n",
      " [1 0 0]\n",
      " [0 1 0]\n",
      " [0 0 1]\n",
      " [0 0 0]]\n",
      "int64\n"
     ]
    }
   ],
   "source": [
    "# Example code on array creation inserted during lecture\n",
    "a = np.arange( 10 ).reshape( (2,5))\n",
    "print(a)\n",
    "b = np.linspace( -1, 1, num=40, endpoint=True).reshape( (4,10))\n",
    "print(b)\n",
    "print(b.dtype)\n",
    "c = np.random.random( (3,5))\n",
    "print(c)\n",
    "d = np.eye( 4 )\n",
    "print(d)\n",
    "e = np.eye( 5,3, k=-1, dtype=np.int64)\n",
    "print(e)\n",
    "print(e.dtype)"
   ]
  },
  {
   "cell_type": "markdown",
   "metadata": {},
   "source": [
    "### Array dimensions\n",
    "+ 1-d: a row vector\n",
    "+ 2-d: a traditional array with rows indexed first and columns indexed second\n",
    "+ n-d: nested dimesions read from outside in\n",
    "+ Can even have 0-d, which is essentially a scalar, but we will not spend any time on this\n",
    "\n"
   ]
  },
  {
   "cell_type": "code",
   "execution_count": 3,
   "metadata": {},
   "outputs": [
    {
     "name": "stdout",
     "output_type": "stream",
     "text": [
      "[ 0  1  2  3  4  5  6  7  8  9 10 11 12 13 14 15 16 17 18 19 20 21 22 23]\n",
      "[[ 0  1  2  3  4  5  6  7]\n",
      " [ 8  9 10 11 12 13 14 15]\n",
      " [16 17 18 19 20 21 22 23]]\n",
      "[[[ 0  1  2]\n",
      "  [ 3  4  5]]\n",
      "\n",
      " [[ 6  7  8]\n",
      "  [ 9 10 11]]\n",
      "\n",
      " [[12 13 14]\n",
      "  [15 16 17]]\n",
      "\n",
      " [[18 19 20]\n",
      "  [21 22 23]]]\n"
     ]
    }
   ],
   "source": [
    "# Example code and printing illustrating different dimensions\n",
    "a = np.arange(24)\n",
    "print(a)\n",
    "b = a.reshape( (3,8))\n",
    "print(b)\n",
    "c = b.reshape( (4,2,3))\n",
    "print(c)"
   ]
  },
  {
   "cell_type": "markdown",
   "metadata": {},
   "source": [
    "### Shapes and reshaping\n",
    "+ We can reshape a NumPy array to any other shape that uses the same number of values\n",
    "+ The shape may be assigned as an l-value and accessed as an r-value\n",
    "    + It is simply an attribute of each NumPy array\n",
    "+ ravel and flatten create 1d versions of arrays\n",
    "    + ravel creates a shallow copy, while flatten creates a deep copy."
   ]
  },
  {
   "cell_type": "code",
   "execution_count": 4,
   "metadata": {},
   "outputs": [
    {
     "name": "stdout",
     "output_type": "stream",
     "text": [
      "[[ 8.93230645  8.11029738  9.45812643  3.15177358  9.6279907 ]\n",
      " [ 5.8608416   8.89546046  3.57936742  9.24577021  7.03872852]\n",
      " [ 6.44495464  5.85902616  0.7750753   5.16573323  1.93268212]]\n",
      "[[ 8.93230645  8.11029738  9.45812643]\n",
      " [ 3.15177358  9.6279907   5.8608416 ]\n",
      " [ 8.89546046  3.57936742  9.24577021]\n",
      " [ 7.03872852  6.44495464  5.85902616]\n",
      " [ 0.7750753   5.16573323  1.93268212]]\n",
      "[ 8.93230645  8.11029738  9.45812643  3.15177358  9.6279907   5.8608416\n",
      "  8.89546046  3.57936742  9.24577021  7.03872852  6.44495464  5.85902616\n",
      "  0.7750753   5.16573323  1.93268212]\n",
      "[ 8.93230645  8.11029738  9.45812643  3.15177358  9.6279907   5.8608416\n",
      "  8.89546046  3.57936742  9.24577021  7.03872852  6.44495464  5.85902616\n",
      "  0.7750753   5.16573323  1.93268212]\n",
      "-----\n",
      "After changing b\n",
      "[[  8.93230645   8.11029738   9.45812643]\n",
      " [  3.15177358  89.           5.8608416 ]\n",
      " [  8.89546046   3.57936742   9.24577021]\n",
      " [  7.03872852   6.44495464   5.85902616]\n",
      " [  0.7750753    5.16573323   1.93268212]]\n",
      "[  8.93230645   8.11029738   9.45812643   3.15177358  89.           5.8608416\n",
      "   8.89546046   3.57936742   9.24577021   7.03872852   6.44495464\n",
      "   5.85902616   0.7750753    5.16573323   1.93268212]\n",
      "[ 8.93230645  8.11029738  9.45812643  3.15177358  9.6279907   5.8608416\n",
      "  8.89546046  3.57936742  9.24577021  7.03872852  6.44495464  5.85902616\n",
      "  0.7750753   5.16573323  1.93268212]\n"
     ]
    }
   ],
   "source": [
    "# Example reshaping code\n",
    "a = np.random.random( (3,5))*10\n",
    "print(a)\n",
    "a.shape = (5,3)\n",
    "print(a)\n",
    "b = a.ravel()   # view\n",
    "print(b)\n",
    "c = a.flatten()   # deep copy\n",
    "print(c)\n",
    "b[4] = 89\n",
    "print('-----\\nAfter changing b')\n",
    "print(a)\n",
    "print(b)\n",
    "print(c)"
   ]
  },
  {
   "cell_type": "markdown",
   "metadata": {},
   "source": [
    "### Indexing and slicing\n",
    "+ Initial intuitions are similar to operations on Python lists\n",
    "    + Watch out though for important differences that will emerge, starting with syntax\n",
    "+ 1d, 2d, and more\n",
    "+ Leaving out a dimension (at the end) gives the entire contents of that dimension"
   ]
  },
  {
   "cell_type": "code",
   "execution_count": 5,
   "metadata": {},
   "outputs": [
    {
     "name": "stdout",
     "output_type": "stream",
     "text": [
      "[[ 0  1  2  3  4]\n",
      " [ 5  6  7  8  9]\n",
      " [10 11 12 13 14]\n",
      " [15 16 17 18 19]]\n",
      "[[10 11 12]\n",
      " [15 16 17]]\n",
      "[[ 0  1  2  3  4]\n",
      " [10 11 12 13 14]]\n"
     ]
    }
   ],
   "source": [
    "# Example slicing code\n",
    "a = np.arange( 20 ).reshape( (4,5))\n",
    "print(a)\n",
    "print(a[2:4,:3])\n",
    "print(a[::2,:])"
   ]
  },
  {
   "cell_type": "markdown",
   "metadata": {},
   "source": [
    "### Views and copying\n",
    "+ Unlike lists, when an array is sliced, the result is a view or shallow copy of the array.\n",
    "+ When the slice is an l-value, the contents of the array are changed!\n",
    "    + We will use this next week to insert a picture within a picture"
   ]
  },
  {
   "cell_type": "code",
   "execution_count": 6,
   "metadata": {},
   "outputs": [
    {
     "name": "stdout",
     "output_type": "stream",
     "text": [
      "(2, 2)\n",
      "[[ 0  1  2  3  4]\n",
      " [ 5  6  7  8  9]\n",
      " [10 11 12 13 14]\n",
      " [15 16 17 18 19]]\n",
      "[[ 0 99  2 98  4]\n",
      " [ 5  6  7  8  9]\n",
      " [10 97 12 96 14]\n",
      " [15 16 17 18 19]]\n"
     ]
    }
   ],
   "source": [
    "# Example views and copies\n",
    "print(a[::2, 1::2 ].shape)\n",
    "print(a)\n",
    "a[::2, 1::2 ] = np.array( [[99,98],[97,96]])\n",
    "print(a)"
   ]
  },
  {
   "cell_type": "markdown",
   "metadata": {},
   "source": [
    "### Arithmetic operators applied to arrays\n",
    "+ Addition, subtraction, multiplication, etc.\n",
    "    + Note that multiplication is component-wise rather than true matrix multiplication\n",
    "+ Operators require compatible dimensions.  For example\n",
    "    + A scalar is compatible with any array\n",
    "    + Arrays of the same dimensions are compatible \n",
    "+ More generally, compatibility is defined via broadcasting rules, which we will study in Lecture 2"
   ]
  },
  {
   "cell_type": "code",
   "execution_count": 7,
   "metadata": {},
   "outputs": [
    {
     "name": "stdout",
     "output_type": "stream",
     "text": [
      "[[ 0  1  2  3]\n",
      " [ 4  5  6  7]\n",
      " [ 8  9 10 11]]\n",
      "[[20 21 22 23]\n",
      " [24 25 26 27]\n",
      " [28 29 30 31]]\n",
      "[[20 22 24 26]\n",
      " [28 30 32 34]\n",
      " [36 38 40 42]]\n",
      "[[ 0  3  6  9]\n",
      " [12 15 18 21]\n",
      " [24 27 30 33]]\n",
      "[[ 3  4  5  6]\n",
      " [ 7  8  9 10]\n",
      " [11 12 13 14]]\n"
     ]
    }
   ],
   "source": [
    "# Example use of arithmetic operators\n",
    "x = np.arange( 12 ).reshape( (3,4))\n",
    "y = np.arange( 20, 32).reshape( (3,4))\n",
    "print(x)\n",
    "print(y)\n",
    "print(x+y)\n",
    "print(3*x)\n",
    "print(3+x)\n"
   ]
  },
  {
   "cell_type": "code",
   "execution_count": 8,
   "metadata": {},
   "outputs": [
    {
     "name": "stdout",
     "output_type": "stream",
     "text": [
      "(4,)\n",
      "[[10 12 14 16]\n",
      " [14 16 18 20]\n",
      " [18 20 22 24]]\n",
      "(3,)\n",
      "(3, 1)\n",
      "[[10 11 12 13]\n",
      " [15 16 17 18]\n",
      " [20 21 22 23]]\n"
     ]
    }
   ],
   "source": [
    "# Broadcasting\n",
    "a = np.arange( 10,14)\n",
    "print(a.shape)\n",
    "print(a+x)  # ?\n",
    "b = np.arange( 10,13 )\n",
    "print(b.shape)\n",
    "# print(b+x)  # incompatible shapes\n",
    "b = b.reshape( (3,1))\n",
    "print(b.shape)\n",
    "print(x+b)"
   ]
  },
  {
   "cell_type": "code",
   "execution_count": 9,
   "metadata": {},
   "outputs": [
    {
     "name": "stdout",
     "output_type": "stream",
     "text": [
      "(3, 2)\n",
      "[[-10  -9]\n",
      " [ -8  -7]\n",
      " [ -6  -5]]\n"
     ]
    }
   ],
   "source": [
    "# Try adding 3x2 to 3x4 to see...\n",
    "c = np.arange( -10, -4 ).reshape( (3,2))\n",
    "print(c.shape)\n",
    "print(c)\n",
    "# print(x+c)"
   ]
  },
  {
   "cell_type": "code",
   "execution_count": 10,
   "metadata": {},
   "outputs": [
    {
     "name": "stdout",
     "output_type": "stream",
     "text": [
      "[[10 11 12 13]\n",
      " [15 16 17 18]\n",
      " [20 21 22 23]\n",
      " [25 26 27 28]]\n",
      "[[20 22 24 26]\n",
      " [24 26 28 30]\n",
      " [28 30 32 34]\n",
      " [32 34 36 38]]\n",
      "[[30 31 32 33]\n",
      " [31 32 33 34]\n",
      " [32 33 34 35]\n",
      " [33 34 35 36]]\n"
     ]
    }
   ],
   "source": [
    "# \n",
    "g = np.arange( 0,16).reshape( (4,4))\n",
    "h = np.arange( 10, 14).reshape( (4,1))\n",
    "i = np.arange( 20, 24).reshape( (1,4))\n",
    "print(g+h)\n",
    "print(g+i)\n",
    "print(h+i)"
   ]
  },
  {
   "cell_type": "markdown",
   "metadata": {},
   "source": [
    "### Universal functions - Applied to entire array\n",
    "+ We'll look at just a few important examples (of many):\n",
    "    + Average, dot, max, sum, cumsum\n",
    "+ Can specify the axis along which the function is applied\n",
    "+ Some functions, like argmax, give results that are defined in terms of the 1d, raveled version of the array!"
   ]
  },
  {
   "cell_type": "code",
   "execution_count": 11,
   "metadata": {},
   "outputs": [
    {
     "name": "stdout",
     "output_type": "stream",
     "text": [
      "[[ 0.93425291  0.34196458  0.96854341]\n",
      " [ 0.33357283  0.59166344  0.70130446]\n",
      " [ 0.80081765  0.68082358  0.18546946]]\n",
      "average =  0.615379146392\n",
      "cumsum (reshaped) =  [[ 0.93425291  1.27621749  2.2447609 ]\n",
      " [ 2.57833373  3.16999717  3.87130162]\n",
      " [ 4.67211927  5.35294285  5.53841232]]\n"
     ]
    }
   ],
   "source": [
    "# Many examples of universal functions\n",
    "a = np.random.random( (3,3))\n",
    "print(a)\n",
    "print('average = ', np.average(a))\n",
    "print('cumsum (reshaped) = ', np.cumsum(a).reshape( a.shape))"
   ]
  },
  {
   "cell_type": "code",
   "execution_count": 12,
   "metadata": {},
   "outputs": [
    {
     "name": "stdout",
     "output_type": "stream",
     "text": [
      "[[9 2 0]\n",
      " [3 0 0]\n",
      " [7 9 8]\n",
      " [8 0 0]]\n",
      "[[ 9 11 11]\n",
      " [ 3  3  3]\n",
      " [ 7 16 24]\n",
      " [ 8  8  8]]\n",
      "ravel max index:  0\n",
      "incoordinates:  (0, 0)\n"
     ]
    }
   ],
   "source": [
    "# Cumsum along the axis\n",
    "a = np.random.random( (4,3))*10\n",
    "a = a.astype(int)\n",
    "print(a)\n",
    "print(np.cumsum(a,axis=1))\n",
    "i = a.argmax()\n",
    "print('ravel max index: ', i)\n",
    "print('incoordinates: ', np.unravel_index(i,a.shape))"
   ]
  },
  {
   "cell_type": "markdown",
   "metadata": {},
   "source": [
    "### Combining and splitting arrays\n",
    "+ concatenate:\n",
    "    + Give tuple of arrays and specify axis along which to combine\n",
    "    + Arrays dimensions must match exactly except along the axis\n",
    "+ Split using indices\n",
    "+ We'll look at example of combining 2d arrays into another 2d array, but also extending to 3d\n",
    "    + Useful for splitting and combining images"
   ]
  },
  {
   "cell_type": "code",
   "execution_count": 13,
   "metadata": {},
   "outputs": [
    {
     "name": "stdout",
     "output_type": "stream",
     "text": [
      "[[ 0  1  2  3]\n",
      " [ 4  5  6  7]\n",
      " [ 8  9 10 11]\n",
      " [20 21 22 23]\n",
      " [24 25 26 27]\n",
      " [28 29 30 31]]\n",
      "[[ 0  1  2  3 20 21 22 23]\n",
      " [ 4  5  6  7 24 25 26 27]\n",
      " [ 8  9 10 11 28 29 30 31]]\n",
      "after adding a new axis a3.shape =  (3, 4, 1)\n",
      "(3, 4, 2)\n",
      "[[[ 0 20]\n",
      "  [ 1 21]\n",
      "  [ 2 22]\n",
      "  [ 3 23]]\n",
      "\n",
      " [[ 4 24]\n",
      "  [ 5 25]\n",
      "  [ 6 26]\n",
      "  [ 7 27]]\n",
      "\n",
      " [[ 8 28]\n",
      "  [ 9 29]\n",
      "  [10 30]\n",
      "  [11 31]]]\n",
      "(3, 4)\n",
      "(3, 4)\n"
     ]
    }
   ],
   "source": [
    "# Initial example for concatenation and splitting\n",
    "a = np.arange( 12).reshape( (3,4))\n",
    "b = np.arange( 20,32).reshape( (3,4))\n",
    "print( np.concatenate( (a,b)))\n",
    "print( np.concatenate( (a,b), axis=1))\n",
    "a3 = a[:,:,np.newaxis]\n",
    "print('after adding a new axis a3.shape = ', a3.shape)\n",
    "b3 = b[:,:,np.newaxis]\n",
    "c = np.concatenate( (a3,b3), axis=-1)\n",
    "print(c.shape)\n",
    "print(c)\n",
    "a1 = c[:,:,0]\n",
    "b1 = c[:,:,1]\n",
    "print(a1.shape)\n",
    "print(b1.shape)\n",
    "\n"
   ]
  },
  {
   "cell_type": "markdown",
   "metadata": {},
   "source": [
    "### NumPy arrays vs. Python lists, revisited\n",
    "+ NumPy lists are homogeneous; Python lists are heterogeneous\n",
    "+ Slicing a NumPy list creates a view without copying; slicing a Python lists creates a new list\n",
    "+ Many functional and numeric operations have been created for NumPy arrays"
   ]
  }
 ],
 "metadata": {
  "kernelspec": {
   "display_name": "Python 3",
   "language": "python",
   "name": "python3"
  },
  "language_info": {
   "codemirror_mode": {
    "name": "ipython",
    "version": 3
   },
   "file_extension": ".py",
   "mimetype": "text/x-python",
   "name": "python",
   "nbconvert_exporter": "python",
   "pygments_lexer": "ipython3",
   "version": "3.5.3"
  }
 },
 "nbformat": 4,
 "nbformat_minor": 2
}
